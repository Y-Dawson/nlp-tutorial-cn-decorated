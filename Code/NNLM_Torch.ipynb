{
 "cells": [
  {
   "cell_type": "code",
   "execution_count": 4,
   "metadata": {},
   "outputs": [
    {
     "name": "stdout",
     "output_type": "stream",
     "text": "['i', 'like', 'dog', 'i', 'love', 'coffee', 'i', 'hate', 'milk']\nword_list: ['love', 'milk', 'like', 'hate', 'dog', 'coffee', 'i']\nword_dict: {'love': 0, 'milk': 1, 'like': 2, 'hate': 3, 'dog': 4, 'coffee': 5, 'i': 6}\nnumber_dict {0: 'love', 1: 'milk', 2: 'like', 3: 'hate', 4: 'dog', 5: 'coffee', 6: 'i'}\n"
    }
   ],
   "source": [
    "# code by Tae Hwan Jung @graykode\n",
    "import numpy as np\n",
    "import torch\n",
    "import torch.nn as nn\n",
    "import torch.optim as optim\n",
    "from torch.autograd import Variable\n",
    "\n",
    "dtype = torch.FloatTensor\n",
    "\n",
    "sentences = [ \"i like dog\", \"i love coffee\", \"i hate milk\"]\n",
    "\n",
    "word_list = \" \".join(sentences).split() #先通过空格分词\n",
    "print(word_list)\n",
    "word_list = list(set(word_list))#先去重再构建成列表\n",
    "word_dict = {w: i for i, w in enumerate(word_list)} #通过文字索引编号\n",
    "number_dict = {i: w for i, w in enumerate(word_list)}#通过编号索引文字\n",
    "n_class = len(word_dict) # number of Vocabulary \n",
    "print('word_list:',word_list)\n",
    "print('word_dict:',word_dict)\n",
    "print('number_dict',number_dict)"
   ]
  },
  {
   "cell_type": "code",
   "execution_count": 5,
   "metadata": {},
   "outputs": [
    {
     "name": "stdout",
     "output_type": "stream",
     "text": "Epoch: 1000 cost = 0.204264\nEpoch: 2000 cost = 0.032313\nEpoch: 3000 cost = 0.009893\nEpoch: 4000 cost = 0.004144\nEpoch: 5000 cost = 0.002002\n[['i', 'like'], ['i', 'love'], ['i', 'hate']] -> ['dog', 'coffee', 'milk']\n"
    }
   ],
   "source": [
    "\n",
    "# NNLM Parameter\n",
    "n_step = 2 # n-1 in paper\n",
    "n_hidden = 2 # h in paper\n",
    "m = 2 # m in paper\n",
    "#建立batch\n",
    "def make_batch(sentences):\n",
    "    input_batch = []\n",
    "    target_batch = []\n",
    "\n",
    "    for sen in sentences:\n",
    "        word = sen.split()\n",
    "        input = [word_dict[n] for n in word[:-1]] #前面的词作为input\n",
    "        target = word_dict[word[-1]]#最后一个词作为target\n",
    "\n",
    "        input_batch.append(input)\n",
    "        target_batch.append(target)\n",
    "\n",
    "    return input_batch, target_batch\n",
    "\n",
    "# Model\n",
    "class NNLM(nn.Module):\n",
    "    def __init__(self):\n",
    "        super(NNLM, self).__init__()\n",
    "        self.C = nn.Embedding(n_class, m) #n_class是词表大小,m是目标embedding的维数\n",
    "        self.H = nn.Parameter(torch.randn(n_step * m, n_hidden).type(dtype)) #建立一个n_step * m,n_hidden的可训练的参数层\n",
    "        self.W = nn.Parameter(torch.randn(n_step * m, n_class).type(dtype))\n",
    "        self.d = nn.Parameter(torch.randn(n_hidden).type(dtype)) #建立一个n_hidden的参数层\n",
    "        self.U = nn.Parameter(torch.randn(n_hidden, n_class).type(dtype))#n_hidden, n_class\n",
    "        self.b = nn.Parameter(torch.randn(n_class).type(dtype))\n",
    "\n",
    "    def forward(self, X):\n",
    "        X = self.C(X) #先embedding \n",
    "        X = X.view(-1, n_step * m) # [batch_size, n_step * n_class] #展开为输入层一致的格式\n",
    "        tanh = torch.tanh(self.d + torch.mm(X, self.H)) # [batch_size, n_hidden]#隐藏层\n",
    "        output = self.b + torch.mm(X, self.W) + torch.mm(tanh, self.U) # [batch_size, n_class]#输出层\n",
    "        return output\n",
    "\n",
    "model = NNLM()\n",
    "\n",
    "criterion = nn.CrossEntropyLoss() #交叉熵作为损失函数\n",
    "optimizer = optim.Adam(model.parameters(), lr=0.001) #Adam优化器\n",
    "\n",
    "input_batch, target_batch = make_batch(sentences) #输入输出\n",
    "input_batch = Variable(torch.LongTensor(input_batch)) #包装为Variable\n",
    "target_batch = Variable(torch.LongTensor(target_batch))\n",
    "\n",
    "# Training\n",
    "for epoch in range(5000):\n",
    "\n",
    "    optimizer.zero_grad() #清零梯度\n",
    "    output = model(input_batch)#预测\n",
    "\n",
    "    # output : [batch_size, n_class], target_batch : [batch_size] (LongTensor, not one-hot)\n",
    "    loss = criterion(output, target_batch)#损失计算\n",
    "    if (epoch + 1)%1000 == 0:\n",
    "        print('Epoch:', '%04d' % (epoch + 1), 'cost =', '{:.6f}'.format(loss))\n",
    "\n",
    "    loss.backward()#反向传播\n",
    "    optimizer.step()#下一步\n",
    "\n",
    "# Predict\n",
    "predict = model(input_batch).data.max(1, keepdim=True)[1]\n",
    "\n",
    "# Test\n",
    "print([sen.split()[:2] for sen in sentences], '->', [number_dict[n.item()] for n in predict.squeeze()])\n",
    "\n"
   ]
  },
  {
   "cell_type": "code",
   "execution_count": null,
   "metadata": {},
   "outputs": [],
   "source": []
  }
 ],
 "metadata": {
  "colab": {
   "name": "NNLM-Torch.ipynb",
   "version": "0.3.2",
   "provenance": [],
   "collapsed_sections": []
  },
  "kernelspec": {
   "name": "python3",
   "display_name": "Python 3"
  },
  "accelerator": "GPU"
 },
 "nbformat": 4,
 "nbformat_minor": 0
}