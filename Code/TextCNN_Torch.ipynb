{
 "cells": [
  {
   "cell_type": "code",
   "execution_count": 2,
   "metadata": {
    "id": "KgNWMAfrWz8r",
    "colab_type": "code",
    "colab": {}
   },
   "outputs": [],
   "source": [
    "# http://pytorch.org/\n",
    "from os.path import exists\n",
    "from wheel.pep425tags import get_abbr_impl, get_impl_ver, get_abi_tag\n",
    "platform = '{}{}-{}'.format(get_abbr_impl(), get_impl_ver(), get_abi_tag())\n",
    "cuda_output = !ldconfig -p|grep cudart.so|sed -e 's/.*\\.\\([0-9]*\\)\\.\\([0-9]*\\)$/cu\\1\\2/'\n",
    "accelerator = cuda_output[0] if exists('/dev/nvidia0') else 'cpu'"
   ]
  },
  {
   "cell_type": "code",
   "execution_count": 3,
   "metadata": {},
   "outputs": [
    {
     "output_type": "stream",
     "name": "stdout",
     "text": "[array([4, 1, 2]), array([13,  3,  8]), array([9, 0, 5]), array([ 4, 14,  2]), array([10, 11, 12]), array([ 6, 15,  7])]\n[1, 1, 1, 0, 0, 0]\n"
    }
   ],
   "source": [
    "'''\n",
    "  code by Tae Hwan Jung(Jeff Jung) @graykode\n",
    "'''\n",
    "import numpy as np\n",
    "import torch\n",
    "import torch.nn as nn\n",
    "import torch.optim as optim\n",
    "from torch.autograd import Variable\n",
    "import torch.nn.functional as F\n",
    "\n",
    "\n",
    "dtype = torch.FloatTensor\n",
    "\n",
    "# Text-CNN Parameter\n",
    "embedding_size = 2 # n-gram\n",
    "sequence_length = 3\n",
    "num_classes = 2  # 0 or 1\n",
    "filter_sizes = [2, 2, 2] # n-gram window\n",
    "num_filters = 3\n",
    "\n",
    "# 3 words sentences (=sequence_length is 3)\n",
    "sentences = [\"i love you\", \"he loves me\", \"she likes baseball\", \"i hate you\", \"sorry for that\", \"this is awful\"]\n",
    "labels = [1, 1, 1, 0, 0, 0]  # 1 is good, 0 is not good.\n",
    "\n",
    "word_list = \" \".join(sentences).split()#空格分词\n",
    "word_list = list(set(word_list))#去重建立列表\n",
    "word_dict = {w: i for i, w in enumerate(word_list)} #创建词->index的dict\n",
    "vocab_size = len(word_dict)#词表大小\n",
    "\n",
    "inputs = []\n",
    "for sen in sentences:\n",
    "    inputs.append(np.asarray([word_dict[n] for n in sen.split()])) #把句子转换为各个词编号的组合 np.asarray()把输入转换为array\n",
    "\n",
    "targets = []\n",
    "for out in labels:\n",
    "    targets.append(out) # To using Torch Softmax Loss function\n",
    "print(inputs)\n",
    "print(targets)\n"
   ]
  },
  {
   "cell_type": "code",
   "execution_count": 62,
   "metadata": {
    "id": "dzhILRnNVS-a",
    "colab_type": "code",
    "colab": {
     "base_uri": "https://localhost:8080/",
     "height": 125
    },
    "outputId": "d29a4372-2558-4dad-8417-3469ccdd0ce0"
   },
   "outputs": [
    {
     "output_type": "stream",
     "name": "stdout",
     "text": "TextCNN()\ntensor([[ 0.5544,  0.0455],\n        [-0.1759,  0.1618]], grad_fn=<SliceBackward>)\ntensor([[[ 0.8345,  0.8912],\n         [-0.1759,  0.1618],\n         [-0.2388, -0.0422]],\n\n        [[ 0.8417,  0.3048],\n         [ 0.3007,  0.5591],\n         [ 0.9753, -0.5198]]], grad_fn=<SliceBackward>)\nembedded_chars: tensor([[[[ 0.8345,  0.8912],\n          [-0.1759,  0.1618],\n          [-0.2388, -0.0422]]],\n\n\n        [[[ 0.8417,  0.3048],\n          [ 0.3007,  0.5591],\n          [ 0.9753, -0.5198]]]], grad_fn=<SliceBackward>)\ntorch.Size([6, 1, 3, 2])\n"
    }
   ],
   "source": [
    "\n",
    "#输入输出Variable化\n",
    "input_batch = Variable(torch.LongTensor(inputs))\n",
    "target_batch = Variable(torch.LongTensor(targets))\n",
    "\n",
    "\n",
    "class TextCNN(nn.Module):\n",
    "    def __init__(self):\n",
    "        super(TextCNN, self).__init__()\n",
    "\n",
    "        self.num_filters_total = num_filters * len(filter_sizes)\n",
    "        self.W = nn.Parameter(torch.empty(vocab_size, embedding_size).uniform_(-1, 1)).type(dtype) #[vocab_size,embedding_size]\n",
    "        #uniform对这个tensor操作,具有从连续均匀分布中采样的数字 \n",
    "        self.Weight = nn.Parameter(torch.empty(self.num_filters_total, num_classes).uniform_(-1, 1)).type(dtype)#[num_filters_total,num_classes]\n",
    "        self.Bias = nn.Parameter(0.1 * torch.ones([num_classes])).type(dtype)#偏置\n",
    "\n",
    "    def forward(self, X):\n",
    "        embedded_chars = self.W[X] # [batch_size, sequence_length, sequence_length] 这是一个元素为三个词嵌入的向量的列表的列表\n",
    "        embedded_chars = embedded_chars.unsqueeze(1) # add channel(=1) [batch, channel(=1), sequence_length, embedding_size]  #对数据维度进行扩充。给指定位置加上维数为一的维度\n",
    "\n",
    "        pooled_outputs = []\n",
    "        for filter_size in filter_sizes:\n",
    "            # conv : [input_channel(=1), output_channel(=3), (filter_height, filter_width), bias_option] 进行高维卷积\n",
    "            conv = nn.Conv2d(1, num_filters, (filter_size, embedding_size), bias=True)(embedded_chars)#embedding_size = 2 # n-gram sequence_length = 3 num_classes = 2  # 0 or 1 filter_sizes = [2, 2, 2] num_filters = 3       这里是2*2的卷积核 等于说对一个3*2的矩阵进行卷积\n",
    "            h = F.relu(conv) #激活函数Relu\n",
    "            # mp : ((filter_height, filter_width))\n",
    "            mp = nn.MaxPool2d((sequence_length - filter_size + 1, 1)) #池化\n",
    "            # pooled : [batch_size(=6), output_height(=1), output_width(=1), output_channel(=3)]\n",
    "            pooled = mp(h).permute(0, 3, 2, 1) #将tensor的维度换位\n",
    "            pooled_outputs.append(pooled)\n",
    "\n",
    "        h_pool = torch.cat(pooled_outputs, len(filter_sizes)) # [batch_size(=6), output_height(=1), output_width(=1), output_channel(=3) * 3] #拼接矩阵\n",
    "        h_pool_flat = torch.reshape(h_pool, [-1, self.num_filters_total]) # [batch_size(=6), output_height * output_width * (output_channel * 3)]#整理形状\n",
    "\n",
    "        model = torch.mm(h_pool_flat, self.Weight) + self.Bias # [batch_size, num_classes] #输出\n",
    "        return model\n",
    "\n",
    "model = TextCNN()\n",
    "#这里最好先看完下面具体的形状再来看上面的代码\n",
    "print(model)\n",
    "print(model.W[:2])\n",
    "print(model.W[input_batch][:2])\n",
    "embedded_chars=model.W[input_batch].unsqueeze(1)\n",
    "print('embedded_chars:',embedded_chars[:2])\n",
    "print(embedded_chars.shape)"
   ]
  },
  {
   "cell_type": "code",
   "execution_count": 37,
   "metadata": {},
   "outputs": [
    {
     "output_type": "stream",
     "name": "stdout",
     "text": "Epoch: 1000 cost = 0.510522\nEpoch: 2000 cost = 0.201033\nEpoch: 3000 cost = 0.143718\nEpoch: 4000 cost = 0.153680\nEpoch: 5000 cost = 0.026367\nsorry hate you is Bad Mean...\n"
    }
   ],
   "source": [
    "\n",
    "criterion = nn.CrossEntropyLoss() #交叉熵损失函数\n",
    "optimizer = optim.Adam(model.parameters(), lr=0.001) #Adam优化器\n",
    "\n",
    "# Training\n",
    "for epoch in range(5000):\n",
    "    optimizer.zero_grad() #梯度清零\n",
    "    output = model(input_batch) #进行预测\n",
    "\n",
    "    # output : [batch_size, num_classes], target_batch : [batch_size] (LongTensor, not one-hot)\n",
    "    loss = criterion(output, target_batch) #误差计算\n",
    "    if (epoch + 1) % 1000 == 0:\n",
    "        print('Epoch:', '%04d' % (epoch + 1), 'cost =', '{:.6f}'.format(loss))\n",
    "\n",
    "    loss.backward()#反向传播\n",
    "    optimizer.step()#下一步\n",
    "\n",
    "# Test\n",
    "test_text = 'sorry hate you'\n",
    "tests = [np.asarray([word_dict[n] for n in test_text.split()])]\n",
    "test_batch = Variable(torch.LongTensor(tests))\n",
    "\n",
    "# Predict\n",
    "predict = model(test_batch).data.max(1, keepdim=True)[1]\n",
    "if predict[0][0] == 0:\n",
    "    print(test_text,\"is Bad Mean...\")\n",
    "else:\n",
    "    print(test_text,\"is Good Mean!!\")"
   ]
  },
  {
   "cell_type": "code",
   "execution_count": null,
   "metadata": {},
   "outputs": [],
   "source": []
  }
 ],
 "metadata": {
  "colab": {
   "name": "TextCNN-Torch.ipynb",
   "version": "0.3.2",
   "provenance": [],
   "collapsed_sections": []
  },
  "kernelspec": {
   "name": "python3",
   "display_name": "Python 3"
  },
  "accelerator": "GPU"
 },
 "nbformat": 4,
 "nbformat_minor": 0
}